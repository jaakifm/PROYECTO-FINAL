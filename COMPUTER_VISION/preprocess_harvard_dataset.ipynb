{
 "cells": [
  {
   "cell_type": "markdown",
   "metadata": {},
   "source": [
    "## Preprocessing of the Harvard Data Set"
   ]
  },
  {
   "cell_type": "code",
   "execution_count": 55,
   "metadata": {},
   "outputs": [],
   "source": [
    "#importation of libraries\n",
    "import os\n",
    "import pandas as pd\n",
    "import matplotlib.pyplot as plt\n",
    "import numpy as np\n",
    "from PIL import Image\n",
    "import os"
   ]
  },
  {
   "cell_type": "code",
   "execution_count": 56,
   "metadata": {},
   "outputs": [],
   "source": [
    "\n",
    "# Definir rutas\n",
    "base_path = r'c:\\Users\\jakif\\CODE\\PROYECTO-FINAL\\images\\harvard_dataset'\n",
    "metadata_path = os.path.join(base_path, 'HAM10000_metadata')\n",
    "images_part_1_path = os.path.join(base_path, 'HAM10000_images_part_1')\n",
    "images_part_2_path = os.path.join(base_path, 'HAM10000_images_part_2')"
   ]
  },
  {
   "cell_type": "code",
   "execution_count": 57,
   "metadata": {},
   "outputs": [
    {
     "name": "stdout",
     "output_type": "stream",
     "text": [
      "     lesion_id      image_id   dx dx_type   age   sex localization  \\\n",
      "0  HAM_0000118  ISIC_0027419  bkl   histo  80.0  male        scalp   \n",
      "1  HAM_0000118  ISIC_0025030  bkl   histo  80.0  male        scalp   \n",
      "2  HAM_0002730  ISIC_0026769  bkl   histo  80.0  male        scalp   \n",
      "3  HAM_0002730  ISIC_0025661  bkl   histo  80.0  male        scalp   \n",
      "4  HAM_0001466  ISIC_0031633  bkl   histo  75.0  male          ear   \n",
      "\n",
      "        dataset  \n",
      "0  vidir_modern  \n",
      "1  vidir_modern  \n",
      "2  vidir_modern  \n",
      "3  vidir_modern  \n",
      "4  vidir_modern  \n"
     ]
    }
   ],
   "source": [
    "#imprimir las 5 primeras fials\n",
    "metadata = pd.read_csv(metadata_path)\n",
    "print(metadata.head())"
   ]
  },
  {
   "cell_type": "code",
   "execution_count": 61,
   "metadata": {},
   "outputs": [
    {
     "name": "stdout",
     "output_type": "stream",
     "text": [
      "['ISIC_0029301.jpg', 'ISIC_0029302.jpg', 'ISIC_0029303.jpg', 'ISIC_0029304.jpg', 'ISIC_0029305.jpg']\n",
      "['ISIC_0034316.jpg', 'ISIC_0034317.jpg', 'ISIC_0034318.jpg', 'ISIC_0034319.jpg', 'ISIC_0034320.jpg']\n"
     ]
    }
   ],
   "source": [
    "#mostrar 5 primeras imagenes\n",
    "images_part_1 = os.listdir(images_part_1_path)\n",
    "print(images_part_1[-5:])\n",
    "images_part_2 = os.listdir(images_part_2_path)\n",
    "print(images_part_2[-5:])"
   ]
  },
  {
   "cell_type": "code",
   "execution_count": 62,
   "metadata": {},
   "outputs": [
    {
     "name": "stdout",
     "output_type": "stream",
     "text": [
      "numero de imagenes en la carpeta 1:  5000\n",
      "numero de imagenes en la carpeta 2:  5015\n"
     ]
    }
   ],
   "source": [
    "print(\"numero de imagenes en la carpeta 1: \", len(images_part_1))\n",
    "print(\"numero de imagenes en la carpeta 2: \", len(images_part_2))"
   ]
  },
  {
   "cell_type": "code",
   "execution_count": null,
   "metadata": {},
   "outputs": [],
   "source": [
    "# train_images = []\n",
    "# for i in range(5):\n",
    "#     img_path = os.path.join(images_part_1_path, images_part_1[i])\n",
    "#     img = Image.open(img_path)  # Corrected to open the actual image file\n",
    "#     train_images.append(np.array(img))\n",
    "\n",
    "# # Mostrar las primeras 5 imágenes\n",
    "# for i in range(5):\n",
    "#     plt.subplot(1, 5, i+1)\n",
    "#     plt.imshow(train_images[i])  # Corrected to display the loaded image arrays\n",
    "#     plt.axis('off')\n",
    "# plt.show()"
   ]
  },
  {
   "cell_type": "markdown",
   "metadata": {},
   "source": [
    "For facilitate the preprocess of data we have merged the files into one"
   ]
  },
  {
   "cell_type": "code",
   "execution_count": null,
   "metadata": {},
   "outputs": [
    {
     "name": "stdout",
     "output_type": "stream",
     "text": [
      "Total images on the folder:  10015\n"
     ]
    }
   ],
   "source": [
    "# #unir en una misma carpeta las imagenes de las dos partes\n",
    "# # Definir la ruta de la carpeta de destino\n",
    "# destination_folder = os.path.join(base_path, 'merged_images_part1_part2')\n",
    "# # Copiar las imágenes de la primera parte\n",
    "# for filename in os.listdir(images_part_1_path):\n",
    "#     src = os.path.join(images_part_1_path, filename)\n",
    "#     dst = os.path.join(destination_folder, filename)\n",
    "#     if os.path.isfile(src):\n",
    "#         os.rename(src, dst)  # Move the file to the new location\n",
    "# # Copiar las imágenes de la segunda parte\n",
    "# for filename in os.listdir(images_part_2_path):\n",
    "#     src = os.path.join(images_part_2_path, filename)\n",
    "#     dst = os.path.join(destination_folder, filename)\n",
    "#     if os.path.isfile(src):\n",
    "#         os.rename(src, dst)  # Move the file to the new location\n",
    "\n",
    "# #tamaño de la carpeta\n",
    "# print(\"Total images on the folder: \", len(os.listdir(destination_folder)))"
   ]
  },
  {
   "cell_type": "markdown",
   "metadata": {},
   "source": [
    "clear dataset:\n",
    "\n",
    "akiec: Actinic keratoses (premaligno)\n",
    "\n",
    "bcc: Basal cell carcinoma (maligno, pero no melanoma)\n",
    "\n",
    "bkl: Benign keratosis (benigno)\n",
    "\n",
    "df: Dermatofibroma (benigno)\n",
    "\n",
    "mel: Melanoma maligno (clase objetivo)\n",
    "\n",
    "nv: Melanocytic nevi (benigno) (clase objetivo)\n",
    "\n",
    "vasc: Vascular lesions (benigno)"
   ]
  },
  {
   "cell_type": "markdown",
   "metadata": {},
   "source": []
  },
  {
   "cell_type": "code",
   "execution_count": null,
   "metadata": {},
   "outputs": [],
   "source": [
    "#count the number of images in the merged folder\n",
    "diagnosis_counts = metadata['dx'].value_counts()"
   ]
  },
  {
   "cell_type": "code",
   "execution_count": 65,
   "metadata": {},
   "outputs": [
    {
     "name": "stdout",
     "output_type": "stream",
     "text": [
      "dx\n",
      "nv       6705\n",
      "mel      1113\n",
      "bkl      1099\n",
      "bcc       514\n",
      "akiec     327\n",
      "vasc      142\n",
      "df        115\n",
      "Name: count, dtype: int64\n"
     ]
    }
   ],
   "source": [
    "print(diagnosis_counts)"
   ]
  },
  {
   "cell_type": "code",
   "execution_count": null,
   "metadata": {},
   "outputs": [],
   "source": []
  }
 ],
 "metadata": {
  "kernelspec": {
   "display_name": "NLP",
   "language": "python",
   "name": "python3"
  },
  "language_info": {
   "codemirror_mode": {
    "name": "ipython",
    "version": 3
   },
   "file_extension": ".py",
   "mimetype": "text/x-python",
   "name": "python",
   "nbconvert_exporter": "python",
   "pygments_lexer": "ipython3",
   "version": "3.12.9"
  }
 },
 "nbformat": 4,
 "nbformat_minor": 2
}
