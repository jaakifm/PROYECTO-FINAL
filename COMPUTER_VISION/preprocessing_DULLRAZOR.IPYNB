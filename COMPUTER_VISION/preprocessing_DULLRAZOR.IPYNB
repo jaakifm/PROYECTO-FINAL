{
 "cells": [
  {
   "cell_type": "code",
   "execution_count": null,
   "id": "fd0fea8d",
   "metadata": {},
   "outputs": [],
   "source": [
    "\n",
    "import cv2\n",
    "\n",
    "#IMAGE ACQUISITION\n",
    "\n",
    "#Input image\n",
    "path=r\"C:\\Users\\jakif\\CODE\\PROYECTO-FINAL\\images\\harvard_dataset\\PREPROCESSED_DATA copy\\train\\benign_images\\ISIC_0024320.jpg\"\n",
    "#Read image\n",
    "image=cv2.imread(path,cv2.IMREAD_COLOR)\n",
    "#Image cropping\n",
    "img=image[30:410,30:560]\n",
    "    \n",
    "#DULL RAZOR (REMOVE HAIR)\n",
    "\n",
    "#Gray scale\n",
    "grayScale = cv2.cvtColor(img, cv2.COLOR_RGB2GRAY )\n",
    "#Black hat filter\n",
    "kernel = cv2.getStructuringElement(1,(9,9)) \n",
    "blackhat = cv2.morphologyEx(grayScale, cv2.MORPH_BLACKHAT, kernel)\n",
    "#Gaussian filter\n",
    "bhg= cv2.GaussianBlur(blackhat,(3,3),cv2.BORDER_DEFAULT)\n",
    "#Binary thresholding (MASK)\n",
    "ret,mask = cv2.threshold(bhg,10,255,cv2.THRESH_BINARY)\n",
    "#Replace pixels of the mask\n",
    "dst = cv2.inpaint(img,mask,6,cv2.INPAINT_TELEA)   \n",
    "\n",
    "#Display images\n",
    "cv2.imshow(\"Original image\",image)\n",
    "cv2.imshow(\"Cropped image\",img)\n",
    "cv2.imshow(\"Gray Scale image\",grayScale)\n",
    "cv2.imshow(\"Blackhat\",blackhat)\n",
    "cv2.imshow(\"Binary mask\",mask)\n",
    "cv2.imshow(\"Clean image\",dst)\n",
    "\n",
    "cv2.waitKey()\n",
    "cv2.destroyAllWindows()\n",
    "    "
   ]
  }
 ],
 "metadata": {
  "kernelspec": {
   "display_name": "COMPUTER_VISION",
   "language": "python",
   "name": "python3"
  },
  "language_info": {
   "codemirror_mode": {
    "name": "ipython",
    "version": 3
   },
   "file_extension": ".py",
   "mimetype": "text/x-python",
   "name": "python",
   "nbconvert_exporter": "python",
   "pygments_lexer": "ipython3",
   "version": "3.12.9"
  }
 },
 "nbformat": 4,
 "nbformat_minor": 5
}
