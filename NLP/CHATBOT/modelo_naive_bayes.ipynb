{
 "cells": [
  {
   "cell_type": "markdown",
   "metadata": {},
   "source": [
    "## Model based on Naive Bayes"
   ]
  },
  {
   "cell_type": "markdown",
   "metadata": {},
   "source": [
    "Naïve Bayes is a classification model based on probability. It assume that the value of a particular feature is independent of the value of any other feature, given the class variable."
   ]
  },
  {
   "attachments": {
    "image-2.png": {
     "image/png": "[encoded data removed]"
    }
   },
   "cell_type": "markdown",
   "metadata": {},
   "source": [
    "![image-2.png](attachment:image-2.png)"
   ]
  },
  {
   "cell_type": "markdown",
   "metadata": {},
   "source": [
    "Importation of libraries"
   ]
  },
  {
   "cell_type": "code",
   "execution_count": 11,
   "metadata": {},
   "outputs": [],
   "source": [
    "import nltk\n",
    "from nltk.tokenize import word_tokenize\n",
    "from nltk.classify import NaiveBayesClassifier\n",
    "from nltk.corpus import stopwords\n",
    "\n"
   ]
  },
  {
   "cell_type": "code",
   "execution_count": 12,
   "metadata": {},
   "outputs": [
    {
     "name": "stderr",
     "output_type": "stream",
     "text": [
      "[nltk_data] Downloading package punkt to\n",
      "[nltk_data]     C:\\Users\\jakif\\AppData\\Roaming\\nltk_data...\n",
      "[nltk_data]   Package punkt is already up-to-date!\n",
      "[nltk_data] Downloading package stopwords to\n",
      "[nltk_data]     C:\\Users\\jakif\\AppData\\Roaming\\nltk_data...\n",
      "[nltk_data]   Package stopwords is already up-to-date!\n"
     ]
    },
    {
     "data": {
      "text/plain": [
       "True"
      ]
     },
     "execution_count": 12,
     "metadata": {},
     "output_type": "execute_result"
    }
   ],
   "source": [
    "nltk.download('punkt')\n",
    "nltk.download('stopwords')"
   ]
  },
  {
   "cell_type": "markdown",
   "metadata": {},
   "source": [
    "Creation of the training set"
   ]
  },
  {
   "cell_type": "code",
   "execution_count": 13,
   "metadata": {},
   "outputs": [],
   "source": [
    "training_set = [\n",
    "(\"yes, the lession has increased\", \"positive\"),\n",
    "(\"Sure, it's getting bigger\", \"positive\"),\n",
    "(\"It's definitely changed in size\", \"positive\"),\n",
    "(\"No, it's still the same\", \"negative\"),\n",
    "(\"No, it hasn't changed in months\", \"negative\"),\n",
    "(\"Not at all, it's always been the same size\", \"negative\"),\n",
    "(\"Nothing\", \"negative\"),\n",
    "(\"I don't know\", \"I don't understand\"),\n",
    "(\"What does that mean?\", \"I don't understand\"),\n",
    "(\"I'm not sure\", \"I don't understand\"),\n",
    "]"
   ]
  },
  {
   "cell_type": "markdown",
   "metadata": {},
   "source": [
    "Function to extract words"
   ]
  },
  {
   "cell_type": "code",
   "execution_count": 14,
   "metadata": {},
   "outputs": [],
   "source": [
    "def extract_word(text):\n",
    "    words=[]\n",
    "    #Tokenization and stopwords\n",
    "    tokenized_text = word_tokenize(text.lower())  \n",
    "    for word in tokenized_text:\n",
    "        if word not in stopwords.words(\"english\"):\n",
    "            words.append(word)\n",
    "    return {word: True for word in tokenized_text} \n"
   ]
  },
  {
   "cell_type": "code",
   "execution_count": 15,
   "metadata": {},
   "outputs": [],
   "source": [
    "\n",
    "# Preprocesing data\n",
    "training_data = []\n",
    "for text,label in training_set:\n",
    "    training_data.append((extract_word(text), label))\n"
   ]
  },
  {
   "cell_type": "markdown",
   "metadata": {},
   "source": [
    "Naïve Bayes Model"
   ]
  },
  {
   "cell_type": "code",
   "execution_count": 16,
   "metadata": {},
   "outputs": [],
   "source": [
    "#Training Naïve Bayes\n",
    "model = NaiveBayesClassifier.train(training_data)"
   ]
  },
  {
   "cell_type": "code",
   "execution_count": 17,
   "metadata": {},
   "outputs": [],
   "source": [
    "def answer_classification(answer):\n",
    "    features = extract_word(answer)  # Convert answer to features\n",
    "    return model.classify(features)  # Classify the features\n"
   ]
  },
  {
   "cell_type": "markdown",
   "metadata": {},
   "source": [
    "IMPLEMENTATION OF THE CHATBOT"
   ]
  },
  {
   "cell_type": "code",
   "execution_count": 18,
   "metadata": {},
   "outputs": [],
   "source": [
    "questions = [\n",
    "    \"Has the lesion grown in recent months?\",\n",
    "    \"Does it have clear irregular edges?\",\n",
    "    \"Is it multi-colored?\",\n",
    "    \"Is it itchy or bleeding?\"\n",
    "]"
   ]
  },
  {
   "cell_type": "code",
   "execution_count": null,
   "metadata": {},
   "outputs": [],
   "source": [
    "\n",
    "\n",
    "def chatbot():\n",
    "    print(\"Melanoma diagnosis chatbot\")\n",
    "    print(\"Answer with natural phrases.\")\n",
    "\n",
    "    for question in questions:\n",
    "        answer = input(f\"\\n {question} \")\n",
    "        classification = answer_classification(answer)\n",
    "\n",
    "        if classification == \"positive\":\n",
    "            print(\"CHATBOT: I understand your answer as 'Yes'.\")\n",
    "        elif classification == \"negative\":\n",
    "            print(\"CHATBOT: I understand your answer as 'No'.\")\n",
    "        else:\n",
    "            print(\"CHATBOT: I didn't understand your answer. Could you respond differently?\")\n",
    "\n",
    "    print(\"\\nThank you for your answers. We will send it to your doctor.\")\n"
   ]
  },
  {
   "cell_type": "code",
   "execution_count": 20,
   "metadata": {},
   "outputs": [
    {
     "name": "stdout",
     "output_type": "stream",
     "text": [
      "Melanoma diagnosis chatbot\n",
      "Answer with natural phrases.\n",
      "CHATBOT: I understand your answer as 'No'.\n",
      "CHATBOT: I understand your answer as 'Yes'.\n",
      "CHATBOT: I understand your answer as 'Yes'.\n",
      "CHATBOT: I understand your answer as 'No'.\n",
      "\n",
      "Thank you for your answers. We will send it to your doctor.\n"
     ]
    }
   ],
   "source": [
    "chatbot()"
   ]
  },
  {
   "cell_type": "markdown",
   "metadata": {},
   "source": []
  }
 ],
 "metadata": {
  "kernelspec": {
   "display_name": "NLP",
   "language": "python",
   "name": "python3"
  },
  "language_info": {
   "codemirror_mode": {
    "name": "ipython",
    "version": 3
   },
   "file_extension": ".py",
   "mimetype": "text/x-python",
   "name": "python",
   "nbconvert_exporter": "python",
   "pygments_lexer": "ipython3",
   "version": "3.12.9"
  }
 },
 "nbformat": 4,
 "nbformat_minor": 2
}
