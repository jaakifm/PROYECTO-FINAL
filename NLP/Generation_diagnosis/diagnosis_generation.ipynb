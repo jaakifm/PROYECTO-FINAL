{
 "cells": [
  {
   "cell_type": "markdown",
   "id": "d16f01d4",
   "metadata": {},
   "source": [
    "# DIAGNOSIS GENERATION"
   ]
  },
  {
   "cell_type": "markdown",
   "id": "6f06eb63",
   "metadata": {},
   "source": []
  }
 ],
 "metadata": {
  "language_info": {
   "name": "python"
  }
 },
 "nbformat": 4,
 "nbformat_minor": 5
}
